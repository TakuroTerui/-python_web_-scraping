{
  "nbformat": 4,
  "nbformat_minor": 0,
  "metadata": {
    "colab": {
      "name": "河川水位データ.ipynb",
      "provenance": [],
      "authorship_tag": "ABX9TyP7mpEHExITxn/PnYlWH5ie"
    },
    "kernelspec": {
      "name": "python3",
      "display_name": "Python 3"
    },
    "language_info": {
      "name": "python"
    }
  },
  "cells": [
    {
      "cell_type": "code",
      "source": [
        "data_type = {\n",
        "    2: '水位',\n",
        "    6: '流量'\n",
        "}"
      ],
      "metadata": {
        "id": "2ErB9R04nAfE"
      },
      "execution_count": 1,
      "outputs": []
    },
    {
      "cell_type": "code",
      "source": [
        "import csv\n",
        "import time\n",
        "from datetime import datetime\n",
        "from datetime import timedelta\n",
        "from dateutil.relativedelta import relativedelta\n",
        "import requests\n",
        "from bs4 import BeautifulSoup\n",
        "import pandas as pd\n",
        "import matplotlib.pyplot as plt\n",
        "\n",
        "#時間を、文字列←→日付型に相互に変換。どちらへ変換かは型で判別。\n",
        "def time_tyconv(time):\n",
        "    if isinstance(time,str):\n",
        "        return datetime.strptime(time,'%Y%m%d')\n",
        "    elif isinstance(time,datetime):\n",
        "        return time.strftime(\"%Y%m%d\")\n",
        "    else:\n",
        "        raise TypeError('type-err!')\n",
        "\n",
        "#1ヶ月後の日付データを求める\n",
        "def date_after_days(time):\n",
        "    day_after = time_tyconv(time) + relativedelta(months=1)\n",
        "    return time_tyconv(day_after)\n",
        "\n",
        "\n",
        "#任意期間のデータを水水DBからスクレイピングする関数。\n",
        "def scrp_DB(start_date, location_id, result_list):\n",
        "    base_url = 'http://www1.river.go.jp'\n",
        "    url = \"http://www1.river.go.jp/cgi-bin/DspWaterData.exe\"\n",
        "    params = {\n",
        "        \"KIND\":2,\n",
        "        \"ID\":location_id,\n",
        "        \"BGNDATE\":start_date,\n",
        "        \"ENDDATE\":\"20990430\",\n",
        "        \"KAWABOU\":\"NO\"\n",
        "    }\n",
        "    #iframeのhtmlからsrcURLを取得\n",
        "    resp = requests.get(url,params=params)\n",
        "    soup = BeautifulSoup(resp.text, 'html.parser')\n",
        "    if soup.find('tbody') is None:\n",
        "        return\n",
        "    tbody = soup.find('tbody').find_all('tr')\n",
        "\n",
        "    for i in range(len(tbody)):\n",
        "        if i < 2 or i == len(tbody) - 1:\n",
        "            continue\n",
        "        result_row = []\n",
        "        date = tbody[i].find('th').get_text()\n",
        "        th_list = tbody[i].find_all('td')\n",
        "        for time, td in enumerate(th_list):\n",
        "            cell = td.get_text()\n",
        "            try:\n",
        "                cell = float(cell)\n",
        "            except ValueError as e:\n",
        "                cell = 0.0\n",
        "            result_list.append([\n",
        "                datetime.strptime(date + ' ' + str(time) + ':00:00', \"%Y/%m/%d %H:%M:%S\"),\n",
        "                cell\n",
        "            ])\n",
        "\n",
        "    return result_list"
      ],
      "metadata": {
        "id": "mXIxFADEGb62"
      },
      "execution_count": 2,
      "outputs": []
    },
    {
      "cell_type": "code",
      "source": [
        "#取得期間、地点番号（おそらく４から始まるほう）、保存ファイル名を設定\n",
        "start_date = \"20190401\"\n",
        "csvfile_name = \"result_johoku.csv\"\n",
        "location_id = \"302041282204020\"\n",
        "n_step = 24\n",
        "type_no = 2\n",
        "type_name = data_type[type_no]\n",
        "\n",
        "result = []\n",
        "\n",
        "for n in range(n_step):\n",
        "    result = scrp_DB(start_date, location_id, result)\n",
        "    #start_dateに1ヶ月、次のループへ\n",
        "    start_date = date_after_days(start_date)\n",
        "    #サーバーへの負荷を考慮し、2秒置く\n",
        "    time.sleep(2)\n",
        "files_df = pd.DataFrame(result, columns = ['時刻', type_name])\n",
        "\n",
        "#CSVとして出力\n",
        "files_df.to_csv(csvfile_name, index = False)\n",
        "\n",
        "# グラフの描画\n",
        "plt.plot(files_df['時刻'], files_df[type_name])\n",
        "plt.show()"
      ],
      "metadata": {
        "id": "NUStx4KQmYfS"
      },
      "execution_count": 1,
      "outputs": []
    }
  ]
}